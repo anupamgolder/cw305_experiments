{
 "cells": [
  {
   "cell_type": "code",
   "execution_count": 1,
   "metadata": {
    "scrolled": false
   },
   "outputs": [],
   "source": [
    "import chipwhisperer as cw\n",
    "\n",
    "scope                  = cw.scope()\n",
    "scope.gain.db          = 25\n",
    "scope.adc.samples      = 200\n",
    "scope.adc.offset       = 0\n",
    "scope.adc.basic_mode   = \"rising_edge\"\n",
    "\n",
    "scope.trigger.triggers = \"tio4\"\n",
    "scope.io.tio1          = \"serial_rx\"\n",
    "scope.io.tio2          = \"serial_tx\"\n",
    "scope.io.hs2           = \"disabled\""
   ]
  },
  {
   "cell_type": "markdown",
   "metadata": {},
   "source": [
    "Next we set all the PLLs. We enable CW305's PLL1; this clock will feed both the target and the CW ADC. As explained [here](http://wiki.newae.com/Tutorial_CW305-1_Building_a_Project#Capture_Setup), **make sure the DIP switches on the CW305 board are set as follows**:\n",
    "- J16 = 0\n",
    "- K16 = 1"
   ]
  },
  {
   "cell_type": "code",
   "execution_count": 2,
   "metadata": {
    "scrolled": false
   },
   "outputs": [],
   "source": [
    "#target = cw.target(scope, cw.targets.CW305, fpga_id='100t', force=True)\n",
    "target = cw.target(scope, cw.targets.CW305, bsfile=r\"/media/sf_cw_data_repo/fpga_ascon/cw305_top.bit\", force=True)"
   ]
  },
  {
   "cell_type": "code",
   "execution_count": 3,
   "metadata": {},
   "outputs": [],
   "source": [
    "target.vccint_set(1.0)\n",
    "# we only need PLL1:\n",
    "target.pll.pll_enable_set(True)\n",
    "target.pll.pll_outenable_set(False, 0)\n",
    "target.pll.pll_outenable_set(True, 1)\n",
    "target.pll.pll_outenable_set(False, 2)\n",
    "\n",
    "# run at 10 MHz:\n",
    "target.pll.pll_outfreq_set(10E6, 1)\n",
    "\n",
    "# 1ms is plenty of idling time\n",
    "target.clkusbautooff = True\n",
    "target.clksleeptime  = 1"
   ]
  },
  {
   "cell_type": "code",
   "execution_count": 4,
   "metadata": {},
   "outputs": [],
   "source": [
    "#ensure ADC is locked\n",
    "scope.clock.adc_src = \"extclk_x4\"\n",
    "scope.clock.reset_adc()\n",
    "assert (scope.clock.adc_locked), \"ADC failed to lock\""
   ]
  },
  {
   "cell_type": "code",
   "execution_count": 5,
   "metadata": {},
   "outputs": [],
   "source": [
    "project_file = \"projects/Tutorial_HW_CW305.cwp\"\n",
    "project = cw.create_project(project_file, overwrite=True)"
   ]
  },
  {
   "cell_type": "code",
   "execution_count": 6,
   "metadata": {
    "scrolled": false
   },
   "outputs": [
    {
     "name": "stderr",
     "output_type": "stream",
     "text": [
      "/home/vagrant/.pyenv/versions/3.7.7/envs/cw/lib/python3.7/site-packages/ipykernel_launcher.py:18: TqdmDeprecationWarning: Please use `tqdm.notebook.trange` instead of `tqdm.tnrange`\n"
     ]
    },
    {
     "data": {
      "application/vnd.jupyter.widget-view+json": {
       "model_id": "b912dba53d384d219d93087f2f0ef661",
       "version_major": 2,
       "version_minor": 0
      },
      "text/plain": [
       "Capturing traces:   0%|          | 0/100000 [00:00<?, ?it/s]"
      ]
     },
     "metadata": {},
     "output_type": "display_data"
    }
   ],
   "source": [
    "import tqdm\n",
    "import numpy as np\n",
    "import time\n",
    "\n",
    "ktp     = cw.ktp.Basic()\n",
    "\n",
    "traces  = []\n",
    "noncein  = []\n",
    "keys    = []\n",
    "initialization_out = []\n",
    "\n",
    "N       = 100000 # Number of traces\n",
    "\n",
    "# initialize cipher to verify DUT result:\n",
    "fixed_key, _ = ktp.next()\n",
    "target.fpga_write(target.REG_CRYPT_KEY,fixed_key)\n",
    "\n",
    "for i in tqdm.tnrange(N, desc='Capturing traces'):\n",
    "\n",
    "    #arm the scope\n",
    "    scope.arm()\n",
    "    \n",
    "    #write the plaintext\n",
    "    \n",
    "    _, nonce = ktp.next()  \n",
    "    target.fpga_write(target.REG_CRYPT_TEXTIN,nonce)\n",
    "    noncein.append(nonce)\n",
    "    keys.append(fixed_key)\n",
    "    \n",
    "    target.fpga_write(target.REG_USER_LED,[0x01])\n",
    "    target.usb_trigger_toggle()\n",
    "    \n",
    "    ret = scope.capture()\n",
    "    \n",
    "    if ret:\n",
    "        print(\"Failed capture\")\n",
    "        continue\n",
    "\n",
    "    output = target.fpga_read(target.REG_CRYPT_CIPHEROUT,16)\n",
    "    wave   = scope.get_last_trace()\n",
    "    \n",
    "    initialization_out.append(output)\n",
    "        \n",
    "    traces.append(wave)"
   ]
  },
  {
   "cell_type": "code",
   "execution_count": 7,
   "metadata": {},
   "outputs": [],
   "source": [
    "project.save()\n",
    "scope.dis()\n",
    "target.dis()"
   ]
  },
  {
   "cell_type": "code",
   "execution_count": 8,
   "metadata": {},
   "outputs": [],
   "source": [
    "import scipy.io\n",
    "\n",
    "acquisition_number = 10\n",
    "filename = 'fpga_ascon_100k_acq_'+str(acquisition_number)+'.mat'\n",
    "mdic = {'traces': np.array(traces), 'nonce': np.array(noncein), 'initialization_out': np.array(initialization_out),'keys': np.array(keys)}\n",
    "scipy.io.savemat('/media/sf_cw_data_repo/fpga_ascon/'+filename,mdic)"
   ]
  },
  {
   "cell_type": "code",
   "execution_count": 9,
   "metadata": {},
   "outputs": [
    {
     "data": {
      "text/plain": [
       "[<matplotlib.lines.Line2D at 0x7f6104f2ffd0>]"
      ]
     },
     "execution_count": 9,
     "metadata": {},
     "output_type": "execute_result"
    },
    {
     "data": {
      "image/png": "[encoded data removed]",
      "text/plain": [
       "<Figure size 432x288 with 1 Axes>"
      ]
     },
     "metadata": {
      "needs_background": "light"
     },
     "output_type": "display_data"
    }
   ],
   "source": [
    "import matplotlib.pyplot as plt\n",
    "plt.plot(np.array(traces)[0,:])"
   ]
  }
 ],
 "metadata": {
  "kernelspec": {
   "display_name": "Python 3",
   "language": "python",
   "name": "python3"
  },
  "language_info": {
   "codemirror_mode": {
    "name": "ipython",
    "version": 3
   },
   "file_extension": ".py",
   "mimetype": "text/x-python",
   "name": "python",
   "nbconvert_exporter": "python",
   "pygments_lexer": "ipython3",
   "version": "3.7.7"
  },
  "toc": {
   "base_numbering": 1,
   "nav_menu": {},
   "number_sections": true,
   "sideBar": true,
   "skip_h1_title": false,
   "title_cell": "Table of Contents",
   "title_sidebar": "Contents",
   "toc_cell": false,
   "toc_position": {},
   "toc_section_display": true,
   "toc_window_display": false
  }
 },
 "nbformat": 4,
 "nbformat_minor": 4
}
